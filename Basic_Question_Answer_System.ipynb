{
  "nbformat": 4,
  "nbformat_minor": 0,
  "metadata": {
    "colab": {
      "provenance": [],
      "authorship_tag": "ABX9TyMi+6DhhafR5MT5o7KlnXk8",
      "include_colab_link": true
    },
    "kernelspec": {
      "name": "python3",
      "display_name": "Python 3"
    },
    "language_info": {
      "name": "python"
    }
  },
  "cells": [
    {
      "cell_type": "markdown",
      "metadata": {
        "id": "view-in-github",
        "colab_type": "text"
      },
      "source": [
        "<a href=\"https://colab.research.google.com/github/AmiMunshi/NaturalLanguageProcessing/blob/main/Basic_Question_Answer_System.ipynb\" target=\"_parent\"><img src=\"https://colab.research.google.com/assets/colab-badge.svg\" alt=\"Open In Colab\"/></a>"
      ]
    },
    {
      "cell_type": "code",
      "source": [
        "!pip install python-Levenshtein"
      ],
      "metadata": {
        "colab": {
          "base_uri": "https://localhost:8080/"
        },
        "id": "IqpNpXAYTMQQ",
        "outputId": "0f666852-abaa-409c-d462-6b6637561d29"
      },
      "execution_count": null,
      "outputs": [
        {
          "output_type": "stream",
          "name": "stdout",
          "text": [
            "Collecting python-Levenshtein\n",
            "  Downloading python_Levenshtein-0.21.1-py3-none-any.whl (9.4 kB)\n",
            "Collecting Levenshtein==0.21.1 (from python-Levenshtein)\n",
            "  Downloading Levenshtein-0.21.1-cp310-cp310-manylinux_2_17_x86_64.manylinux2014_x86_64.whl (172 kB)\n",
            "\u001b[2K     \u001b[90m━━━━━━━━━━━━━━━━━━━━━━━━━━━━━━━━━━━━━━━\u001b[0m \u001b[32m172.5/172.5 kB\u001b[0m \u001b[31m3.4 MB/s\u001b[0m eta \u001b[36m0:00:00\u001b[0m\n",
            "\u001b[?25hCollecting rapidfuzz<4.0.0,>=2.3.0 (from Levenshtein==0.21.1->python-Levenshtein)\n",
            "  Downloading rapidfuzz-3.2.0-cp310-cp310-manylinux_2_17_x86_64.manylinux2014_x86_64.whl (3.1 MB)\n",
            "\u001b[2K     \u001b[90m━━━━━━━━━━━━━━━━━━━━━━━━━━━━━━━━━━━━━━━━\u001b[0m \u001b[32m3.1/3.1 MB\u001b[0m \u001b[31m45.8 MB/s\u001b[0m eta \u001b[36m0:00:00\u001b[0m\n",
            "\u001b[?25hInstalling collected packages: rapidfuzz, Levenshtein, python-Levenshtein\n",
            "Successfully installed Levenshtein-0.21.1 python-Levenshtein-0.21.1 rapidfuzz-3.2.0\n"
          ]
        }
      ]
    },
    {
      "cell_type": "code",
      "source": [
        "!pip install bert-serving-server bert-serving-client"
      ],
      "metadata": {
        "colab": {
          "base_uri": "https://localhost:8080/"
        },
        "id": "3z7nP5PZTPNV",
        "outputId": "cad77368-e90b-4efb-84e0-7d62581ce40e"
      },
      "execution_count": null,
      "outputs": [
        {
          "output_type": "stream",
          "name": "stdout",
          "text": [
            "Collecting bert-serving-server\n",
            "  Downloading bert_serving_server-1.10.0-py3-none-any.whl (61 kB)\n",
            "\u001b[?25l     \u001b[90m━━━━━━━━━━━━━━━━━━━━━━━━━━━━━━━━━━━━━━━━\u001b[0m \u001b[32m0.0/61.7 kB\u001b[0m \u001b[31m?\u001b[0m eta \u001b[36m-:--:--\u001b[0m\r\u001b[2K     \u001b[90m━━━━━━━━━━━━━━━━━━━━━━━━━━━━━━━━━━━━━━━━\u001b[0m \u001b[32m61.7/61.7 kB\u001b[0m \u001b[31m2.5 MB/s\u001b[0m eta \u001b[36m0:00:00\u001b[0m\n",
            "\u001b[?25hCollecting bert-serving-client\n",
            "  Downloading bert_serving_client-1.10.0-py2.py3-none-any.whl (28 kB)\n",
            "Requirement already satisfied: numpy in /usr/local/lib/python3.10/dist-packages (from bert-serving-server) (1.22.4)\n",
            "Requirement already satisfied: six in /usr/local/lib/python3.10/dist-packages (from bert-serving-server) (1.16.0)\n",
            "Requirement already satisfied: pyzmq>=17.1.0 in /usr/local/lib/python3.10/dist-packages (from bert-serving-server) (23.2.1)\n",
            "Collecting GPUtil>=1.3.0 (from bert-serving-server)\n",
            "  Downloading GPUtil-1.4.0.tar.gz (5.5 kB)\n",
            "  Preparing metadata (setup.py) ... \u001b[?25l\u001b[?25hdone\n",
            "Requirement already satisfied: termcolor>=1.1 in /usr/local/lib/python3.10/dist-packages (from bert-serving-server) (2.3.0)\n",
            "Building wheels for collected packages: GPUtil\n",
            "  Building wheel for GPUtil (setup.py) ... \u001b[?25l\u001b[?25hdone\n",
            "  Created wheel for GPUtil: filename=GPUtil-1.4.0-py3-none-any.whl size=7393 sha256=a1fb7c1343e9dbff9076889fc864c702ae4b08e69d00da950cea747f126cd1d1\n",
            "  Stored in directory: /root/.cache/pip/wheels/a9/8a/bd/81082387151853ab8b6b3ef33426e98f5cbfebc3c397a9d4d0\n",
            "Successfully built GPUtil\n",
            "Installing collected packages: GPUtil, bert-serving-server, bert-serving-client\n",
            "Successfully installed GPUtil-1.4.0 bert-serving-client-1.10.0 bert-serving-server-1.10.0\n"
          ]
        }
      ]
    },
    {
      "cell_type": "markdown",
      "source": [
        "### Using naive method to retrieve the answer for the given question"
      ],
      "metadata": {
        "id": "VslkCgtA8hwF"
      }
    },
    {
      "cell_type": "code",
      "source": [
        "import pandas as pd\n",
        "import re"
      ],
      "metadata": {
        "id": "f4QuyjrGYu5m"
      },
      "execution_count": null,
      "outputs": []
    },
    {
      "cell_type": "code",
      "source": [
        "data = pd.read_csv('QA.csv')"
      ],
      "metadata": {
        "id": "s959eJ4sYxMf"
      },
      "execution_count": null,
      "outputs": []
    },
    {
      "cell_type": "code",
      "source": [
        "data"
      ],
      "metadata": {
        "colab": {
          "base_uri": "https://localhost:8080/",
          "height": 237
        },
        "id": "LuSc0IGMY1Tq",
        "outputId": "4995d4c7-e72e-4d41-c388-97e8c3f6a63f"
      },
      "execution_count": null,
      "outputs": [
        {
          "output_type": "execute_result",
          "data": {
            "text/plain": [
              "                                            Question  \\\n",
              "0                    What is capital of Maharashtra?   \n",
              "1                      What is population of Mumbai?   \n",
              "2                    What was Mumbai earlier called?   \n",
              "3        In which place Asia's largest slum located?   \n",
              "4  Mumbai is made up of which seven different isl...   \n",
              "5           Which is Mumbai's first five star hotel?   \n",
              "\n",
              "                                              Answer  \n",
              "0                                             Mumbai  \n",
              "1                                         1.25 Crore  \n",
              "2                                             Bombay  \n",
              "3                                            Dharavi  \n",
              "4  Colaba, Mazagaon, Little Colaba, Parel, Mahim,...  \n",
              "5                                   Taj Mahal Palace  "
            ],
            "text/html": [
              "\n",
              "\n",
              "  <div id=\"df-0d81050a-bd02-4954-be6f-01801b9911ad\">\n",
              "    <div class=\"colab-df-container\">\n",
              "      <div>\n",
              "<style scoped>\n",
              "    .dataframe tbody tr th:only-of-type {\n",
              "        vertical-align: middle;\n",
              "    }\n",
              "\n",
              "    .dataframe tbody tr th {\n",
              "        vertical-align: top;\n",
              "    }\n",
              "\n",
              "    .dataframe thead th {\n",
              "        text-align: right;\n",
              "    }\n",
              "</style>\n",
              "<table border=\"1\" class=\"dataframe\">\n",
              "  <thead>\n",
              "    <tr style=\"text-align: right;\">\n",
              "      <th></th>\n",
              "      <th>Question</th>\n",
              "      <th>Answer</th>\n",
              "    </tr>\n",
              "  </thead>\n",
              "  <tbody>\n",
              "    <tr>\n",
              "      <th>0</th>\n",
              "      <td>What is capital of Maharashtra?</td>\n",
              "      <td>Mumbai</td>\n",
              "    </tr>\n",
              "    <tr>\n",
              "      <th>1</th>\n",
              "      <td>What is population of Mumbai?</td>\n",
              "      <td>1.25 Crore</td>\n",
              "    </tr>\n",
              "    <tr>\n",
              "      <th>2</th>\n",
              "      <td>What was Mumbai earlier called?</td>\n",
              "      <td>Bombay</td>\n",
              "    </tr>\n",
              "    <tr>\n",
              "      <th>3</th>\n",
              "      <td>In which place Asia's largest slum located?</td>\n",
              "      <td>Dharavi</td>\n",
              "    </tr>\n",
              "    <tr>\n",
              "      <th>4</th>\n",
              "      <td>Mumbai is made up of which seven different isl...</td>\n",
              "      <td>Colaba, Mazagaon, Little Colaba, Parel, Mahim,...</td>\n",
              "    </tr>\n",
              "    <tr>\n",
              "      <th>5</th>\n",
              "      <td>Which is Mumbai's first five star hotel?</td>\n",
              "      <td>Taj Mahal Palace</td>\n",
              "    </tr>\n",
              "  </tbody>\n",
              "</table>\n",
              "</div>\n",
              "      <button class=\"colab-df-convert\" onclick=\"convertToInteractive('df-0d81050a-bd02-4954-be6f-01801b9911ad')\"\n",
              "              title=\"Convert this dataframe to an interactive table.\"\n",
              "              style=\"display:none;\">\n",
              "\n",
              "  <svg xmlns=\"http://www.w3.org/2000/svg\" height=\"24px\"viewBox=\"0 0 24 24\"\n",
              "       width=\"24px\">\n",
              "    <path d=\"M0 0h24v24H0V0z\" fill=\"none\"/>\n",
              "    <path d=\"M18.56 5.44l.94 2.06.94-2.06 2.06-.94-2.06-.94-.94-2.06-.94 2.06-2.06.94zm-11 1L8.5 8.5l.94-2.06 2.06-.94-2.06-.94L8.5 2.5l-.94 2.06-2.06.94zm10 10l.94 2.06.94-2.06 2.06-.94-2.06-.94-.94-2.06-.94 2.06-2.06.94z\"/><path d=\"M17.41 7.96l-1.37-1.37c-.4-.4-.92-.59-1.43-.59-.52 0-1.04.2-1.43.59L10.3 9.45l-7.72 7.72c-.78.78-.78 2.05 0 2.83L4 21.41c.39.39.9.59 1.41.59.51 0 1.02-.2 1.41-.59l7.78-7.78 2.81-2.81c.8-.78.8-2.07 0-2.86zM5.41 20L4 18.59l7.72-7.72 1.47 1.35L5.41 20z\"/>\n",
              "  </svg>\n",
              "      </button>\n",
              "\n",
              "\n",
              "\n",
              "    <div id=\"df-9bd5bd76-cee5-4694-bd79-75a6ff9e53e7\">\n",
              "      <button class=\"colab-df-quickchart\" onclick=\"quickchart('df-9bd5bd76-cee5-4694-bd79-75a6ff9e53e7')\"\n",
              "              title=\"Suggest charts.\"\n",
              "              style=\"display:none;\">\n",
              "\n",
              "<svg xmlns=\"http://www.w3.org/2000/svg\" height=\"24px\"viewBox=\"0 0 24 24\"\n",
              "     width=\"24px\">\n",
              "    <g>\n",
              "        <path d=\"M19 3H5c-1.1 0-2 .9-2 2v14c0 1.1.9 2 2 2h14c1.1 0 2-.9 2-2V5c0-1.1-.9-2-2-2zM9 17H7v-7h2v7zm4 0h-2V7h2v10zm4 0h-2v-4h2v4z\"/>\n",
              "    </g>\n",
              "</svg>\n",
              "      </button>\n",
              "    </div>\n",
              "\n",
              "<style>\n",
              "  .colab-df-quickchart {\n",
              "    background-color: #E8F0FE;\n",
              "    border: none;\n",
              "    border-radius: 50%;\n",
              "    cursor: pointer;\n",
              "    display: none;\n",
              "    fill: #1967D2;\n",
              "    height: 32px;\n",
              "    padding: 0 0 0 0;\n",
              "    width: 32px;\n",
              "  }\n",
              "\n",
              "  .colab-df-quickchart:hover {\n",
              "    background-color: #E2EBFA;\n",
              "    box-shadow: 0px 1px 2px rgba(60, 64, 67, 0.3), 0px 1px 3px 1px rgba(60, 64, 67, 0.15);\n",
              "    fill: #174EA6;\n",
              "  }\n",
              "\n",
              "  [theme=dark] .colab-df-quickchart {\n",
              "    background-color: #3B4455;\n",
              "    fill: #D2E3FC;\n",
              "  }\n",
              "\n",
              "  [theme=dark] .colab-df-quickchart:hover {\n",
              "    background-color: #434B5C;\n",
              "    box-shadow: 0px 1px 3px 1px rgba(0, 0, 0, 0.15);\n",
              "    filter: drop-shadow(0px 1px 2px rgba(0, 0, 0, 0.3));\n",
              "    fill: #FFFFFF;\n",
              "  }\n",
              "</style>\n",
              "\n",
              "    <script>\n",
              "      async function quickchart(key) {\n",
              "        const containerElement = document.querySelector('#' + key);\n",
              "        const charts = await google.colab.kernel.invokeFunction(\n",
              "            'suggestCharts', [key], {});\n",
              "      }\n",
              "    </script>\n",
              "\n",
              "      <script>\n",
              "\n",
              "function displayQuickchartButton(domScope) {\n",
              "  let quickchartButtonEl =\n",
              "    domScope.querySelector('#df-9bd5bd76-cee5-4694-bd79-75a6ff9e53e7 button.colab-df-quickchart');\n",
              "  quickchartButtonEl.style.display =\n",
              "    google.colab.kernel.accessAllowed ? 'block' : 'none';\n",
              "}\n",
              "\n",
              "        displayQuickchartButton(document);\n",
              "      </script>\n",
              "      <style>\n",
              "    .colab-df-container {\n",
              "      display:flex;\n",
              "      flex-wrap:wrap;\n",
              "      gap: 12px;\n",
              "    }\n",
              "\n",
              "    .colab-df-convert {\n",
              "      background-color: #E8F0FE;\n",
              "      border: none;\n",
              "      border-radius: 50%;\n",
              "      cursor: pointer;\n",
              "      display: none;\n",
              "      fill: #1967D2;\n",
              "      height: 32px;\n",
              "      padding: 0 0 0 0;\n",
              "      width: 32px;\n",
              "    }\n",
              "\n",
              "    .colab-df-convert:hover {\n",
              "      background-color: #E2EBFA;\n",
              "      box-shadow: 0px 1px 2px rgba(60, 64, 67, 0.3), 0px 1px 3px 1px rgba(60, 64, 67, 0.15);\n",
              "      fill: #174EA6;\n",
              "    }\n",
              "\n",
              "    [theme=dark] .colab-df-convert {\n",
              "      background-color: #3B4455;\n",
              "      fill: #D2E3FC;\n",
              "    }\n",
              "\n",
              "    [theme=dark] .colab-df-convert:hover {\n",
              "      background-color: #434B5C;\n",
              "      box-shadow: 0px 1px 3px 1px rgba(0, 0, 0, 0.15);\n",
              "      filter: drop-shadow(0px 1px 2px rgba(0, 0, 0, 0.3));\n",
              "      fill: #FFFFFF;\n",
              "    }\n",
              "  </style>\n",
              "\n",
              "      <script>\n",
              "        const buttonEl =\n",
              "          document.querySelector('#df-0d81050a-bd02-4954-be6f-01801b9911ad button.colab-df-convert');\n",
              "        buttonEl.style.display =\n",
              "          google.colab.kernel.accessAllowed ? 'block' : 'none';\n",
              "\n",
              "        async function convertToInteractive(key) {\n",
              "          const element = document.querySelector('#df-0d81050a-bd02-4954-be6f-01801b9911ad');\n",
              "          const dataTable =\n",
              "            await google.colab.kernel.invokeFunction('convertToInteractive',\n",
              "                                                     [key], {});\n",
              "          if (!dataTable) return;\n",
              "\n",
              "          const docLinkHtml = 'Like what you see? Visit the ' +\n",
              "            '<a target=\"_blank\" href=https://colab.research.google.com/notebooks/data_table.ipynb>data table notebook</a>'\n",
              "            + ' to learn more about interactive tables.';\n",
              "          element.innerHTML = '';\n",
              "          dataTable['output_type'] = 'display_data';\n",
              "          await google.colab.output.renderOutput(dataTable, element);\n",
              "          const docLink = document.createElement('div');\n",
              "          docLink.innerHTML = docLinkHtml;\n",
              "          element.appendChild(docLink);\n",
              "        }\n",
              "      </script>\n",
              "    </div>\n",
              "  </div>\n"
            ]
          },
          "metadata": {},
          "execution_count": 13
        }
      ]
    },
    {
      "cell_type": "code",
      "source": [
        "#Using iterrow() to iterate over a column of data frame\n",
        "for q in data.iterrows():\n",
        "    print(q[1][0])"
      ],
      "metadata": {
        "colab": {
          "base_uri": "https://localhost:8080/"
        },
        "id": "PWHOla3bc4E2",
        "outputId": "060e8b98-9ffc-4f54-f8cc-3335db95a0c3"
      },
      "execution_count": null,
      "outputs": [
        {
          "output_type": "stream",
          "name": "stdout",
          "text": [
            "What is capital of Maharashtra?\n",
            "What is population of Mumbai?\n",
            "What was Mumbai earlier called?\n",
            "In which place Asia's largest slum located?\n",
            "Mumbai is made up of which seven different islands\n",
            "Which is Mumbai's first five star hotel?\n"
          ]
        }
      ]
    },
    {
      "cell_type": "code",
      "source": [
        "#iterating over a column of the dataframe\n",
        "for i in range(data.shape[0]):\n",
        "  print(data[\"Question\"][i])"
      ],
      "metadata": {
        "colab": {
          "base_uri": "https://localhost:8080/"
        },
        "id": "ipr3AvOkc-Rw",
        "outputId": "23c1829e-20f2-4323-ad33-dc4a29f79f39"
      },
      "execution_count": null,
      "outputs": [
        {
          "output_type": "stream",
          "name": "stdout",
          "text": [
            "What is capital of Maharashtra?\n",
            "What is population of Mumbai?\n",
            "What was Mumbai earlier called?\n",
            "In which place Asia's largest slum located?\n",
            "Mumbai is made up of which seven different islands\n",
            "Which is Mumbai's first five star hotel?\n"
          ]
        }
      ]
    },
    {
      "cell_type": "code",
      "source": [
        "#Function to count number of words matching in two strings\n",
        "def string_compare(q1,q2):\n",
        "  q1=q1.lower()\n",
        "  q1= q1.split(\" \")\n",
        "  q2=q2.lower()\n",
        "  q2= q2.split(\" \")\n",
        "  same_count= len(list(set(q1)&set(q2)))\n",
        "  return same_count"
      ],
      "metadata": {
        "id": "fbBGtoE9fB-u"
      },
      "execution_count": null,
      "outputs": []
    },
    {
      "cell_type": "code",
      "source": [
        "#Checking to see if function is working appropriately\n",
        "string_compare(data[\"Question\"][0], \"What is capital of Maharashtra?\")"
      ],
      "metadata": {
        "colab": {
          "base_uri": "https://localhost:8080/"
        },
        "id": "KOX2_98zfpp9",
        "outputId": "20623ddb-4984-47b5-bc57-c4562586b5e0"
      },
      "execution_count": null,
      "outputs": [
        {
          "output_type": "execute_result",
          "data": {
            "text/plain": [
              "5"
            ]
          },
          "metadata": {},
          "execution_count": 17
        }
      ]
    },
    {
      "cell_type": "code",
      "source": [
        "#Function to compare the question with each question in data frame\n",
        "#The function will return number of matches, similar question in the dataset and the correspoding answer\n",
        "def ask(curiosity):\n",
        "  count_similar=[]\n",
        "  data = pd.read_csv('QA.csv')\n",
        "\n",
        "  #Run the for loop for number of question times\n",
        "  for i in range(data.shape[0]):\n",
        "    #Call string_compare function, append the count returned by the function to the list\n",
        "    count_similar.append(string_compare(data[\"Question\"][i], curiosity))\n",
        "\n",
        "    #List index of the maximum count will be the index of question in the dataset\n",
        "    max_count= max(count_similar)\n",
        "    n=count_similar.index(max_count)\n",
        "    similar_question=data[\"Question\"][n]\n",
        "    suggested_answer=data[\"Answer\"][n]\n",
        "  return count_similar, similar_question, suggested_answer\n"
      ],
      "metadata": {
        "id": "v5AalkSadRRP"
      },
      "execution_count": null,
      "outputs": []
    },
    {
      "cell_type": "code",
      "source": [
        "question=input(\"Ask you question: \")\n",
        "count, q, ans= ask(question)\n",
        "print(ans)"
      ],
      "metadata": {
        "colab": {
          "base_uri": "https://localhost:8080/"
        },
        "id": "0fi9Ywcegh9M",
        "outputId": "2fb44259-09ac-486f-fcc9-fb07da57b545"
      },
      "execution_count": null,
      "outputs": [
        {
          "output_type": "stream",
          "name": "stdout",
          "text": [
            "Ask you question: name of maharastra\n",
            "Mumbai\n"
          ]
        }
      ]
    },
    {
      "cell_type": "markdown",
      "source": [
        "### Using ratio function from Levenshtein package to find the similarity in two strings"
      ],
      "metadata": {
        "id": "EmCk2vIO-ZZO"
      }
    },
    {
      "cell_type": "code",
      "source": [
        "import Levenshtein as LS\n",
        "import pandas as pd"
      ],
      "metadata": {
        "id": "1Uz0t6cHgnJ-"
      },
      "execution_count": null,
      "outputs": []
    },
    {
      "cell_type": "code",
      "source": [
        "#Find similarity ratio\n",
        "\n",
        "def give_ratio(curiosity):\n",
        "  similar_ratio=[]\n",
        "  data = pd.read_csv('QA.csv')\n",
        "\n",
        "  #Run the for loop for number of question times\n",
        "  for i in range(data.shape[0]):\n",
        "    #Call string_compare function, append the count returned by the function to the list\n",
        "    similar_ratio.append(LS.ratio(data[\"Question\"][i], curiosity))\n",
        "\n",
        "    #List index of the maximum count will be the index of question in the dataset\n",
        "    max_ratio= max(similar_ratio)\n",
        "    n=similar_ratio.index(max_ratio)\n",
        "    similar_question=data[\"Question\"][n]\n",
        "    suggested_answer=data[\"Answer\"][n]\n",
        "  return max_ratio, similar_question, suggested_answer"
      ],
      "metadata": {
        "id": "CHPrC-QT-1uO"
      },
      "execution_count": null,
      "outputs": []
    },
    {
      "cell_type": "code",
      "source": [
        "question=input(\"Ask you question: \")\n",
        "ratio, q, ans= give_ratio(question)\n",
        "print(ans, ratio)"
      ],
      "metadata": {
        "id": "f2h4z86r_b4R"
      },
      "execution_count": null,
      "outputs": []
    },
    {
      "cell_type": "code",
      "source": [
        "from bert_serving.client import BertClient\n",
        "import numpy as np\n",
        "\n",
        "def encode_questions():\n",
        "    bc = BertClient()\n",
        "    questions = data[\"Question\"].values.tolist()\n",
        "    print(\"Questions count\", len(questions))\n",
        "    print(\"Start to calculate encoder....\")\n",
        "    questions_encoder = bc.encode(questions)\n",
        "    np.save(\"questions\", questions_encoder)\n",
        "    questions_encoder_len = np.sqrt(\n",
        "        np.sum(questions_encoder * questions_encoder, axis=1)\n",
        "    )\n",
        "    np.save(\"questions_len\", questions_encoder_len)\n",
        "    print(\"Encoder ready\")\n",
        "\n",
        "encode_questions()"
      ],
      "metadata": {
        "id": "zl2UWA_F_oXB"
      },
      "execution_count": null,
      "outputs": []
    },
    {
      "cell_type": "markdown",
      "source": [
        "Ref:\n",
        "\n",
        "https://typesense.org/learn/fuzzy-string-matching-python/\n",
        "\n",
        "https://intersog.com/blog/the-basics-of-qa-systems-from-a-single-function-to-a-pre-trained-nlp-model-using-python/"
      ],
      "metadata": {
        "id": "BQkLAAhvYMOV"
      }
    },
    {
      "cell_type": "code",
      "source": [],
      "metadata": {
        "id": "A2zzs9CfA-0L"
      },
      "execution_count": null,
      "outputs": []
    }
  ]
}